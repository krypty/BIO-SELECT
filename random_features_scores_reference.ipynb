{
 "cells": [
  {
   "cell_type": "markdown",
   "metadata": {},
   "source": [
    "# Random features scores reference"
   ]
  },
  {
   "cell_type": "markdown",
   "metadata": {},
   "source": [
    "The purpose of this notebook is to have an insight of the scores that randomly selected features get. We want to compare these scores with different subset sizes."
   ]
  },
  {
   "cell_type": "code",
   "execution_count": null,
   "metadata": {
    "collapsed": false
   },
   "outputs": [],
   "source": [
    "import numpy as np\n",
    "from matplotlib import pyplot as plt"
   ]
  },
  {
   "cell_type": "code",
   "execution_count": null,
   "metadata": {
    "collapsed": false
   },
   "outputs": [],
   "source": [
    "# Use Golub\n",
    "#GROUP_NAME = \"golub_19122016\"\n",
    "#GROUP_NAME = \"golub_16012017\"\n",
    "GROUP_NAME = \"golub_06022017\"\n",
    "DATASET = \"Golub\" # choose between \"Golub\" and \"MILE\"\n",
    "\n",
    "# Use MILE\n",
    "#GROUP_NAME = \"MILE_21012017\"\n",
    "#DATASET = \"MILE\""
   ]
  },
  {
   "cell_type": "code",
   "execution_count": null,
   "metadata": {
    "collapsed": false
   },
   "outputs": [],
   "source": [
    "import pickle\n",
    "\n",
    "ds = pickle.load(open(\"%s.pkl\" % GROUP_NAME,\"rb\"))"
   ]
  },
  {
   "cell_type": "code",
   "execution_count": null,
   "metadata": {
    "collapsed": false
   },
   "outputs": [],
   "source": [
    "X = ds.get_X()\n",
    "y = ds.get_y()\n",
    "\n",
    "X_train = ds.get_X_train()\n",
    "y_train = ds.get_y_train()\n",
    "X_test = ds.get_X_test()\n",
    "y_test = ds.get_y_test()\n",
    "\n",
    "class_names = range(len(set(ds.get_y())))\n",
    "\n",
    "N_FEATURES = len(X_train[0])\n",
    "print(\"Number of genes: %d\" % N_FEATURES)\n",
    "print(\"Dataset samples: %d\" % len(y))\n",
    "print(\"Train set size %d\" % len(X_train))\n",
    "print(\"Test set size %d\" % len(X_test))"
   ]
  },
  {
   "cell_type": "code",
   "execution_count": null,
   "metadata": {
    "collapsed": false
   },
   "outputs": [],
   "source": [
    "# The used score function is F1-Score. This function can leads to 0/0 division.\n",
    "# These following lines hide warnings about 0/0 divisions when computing the F-Score. \n",
    "# When looking at the source code, all 0/0 divisions are set to 0. \n",
    "import warnings\n",
    "from sklearn.exceptions import UndefinedMetricWarning\n",
    "\n",
    "warnings.filterwarnings(\"ignore\", category=UndefinedMetricWarning)"
   ]
  },
  {
   "cell_type": "code",
   "execution_count": null,
   "metadata": {
    "collapsed": false
   },
   "outputs": [],
   "source": [
    "assessed_lists = list()\n",
    "score_index = 2"
   ]
  },
  {
   "cell_type": "code",
   "execution_count": null,
   "metadata": {
    "collapsed": false
   },
   "outputs": [],
   "source": [
    "from merge.SubsetAssessor import SubsetAssessor\n",
    "from itertools import chain\n",
    "import random\n",
    "\n",
    "\n",
    "score_std = []\n",
    "N = 5\n",
    "\n",
    "K = chain([1, 5, 10, 50, 100],(range(200, N_FEATURES, int(0.15*N_FEATURES))))\n",
    "for k in K:\n",
    "    for _ in range(N):\n",
    "        random_features = random.sample(range(N_FEATURES), k)\n",
    "        sa = SubsetAssessor(random_features, ds, k=5)\n",
    "        score_std.append((sa.score, sa.std))\n",
    "\n",
    "\n",
    "    # get the median of the scores. Warning: This is not the real median. \n",
    "    # The real one would take the mean between the n/2 and (n/2)+1 elements if the n is even\n",
    "    score, std = sorted(score_std, key=lambda x:x[0])[len(score_std)//2]\n",
    "    print(\"Random features scores: %.2f\" % score)\n",
    "\n",
    "    assessed_lists.append((\"%d random f.\" % k, random_features, score, std))"
   ]
  },
  {
   "cell_type": "code",
   "execution_count": null,
   "metadata": {
    "collapsed": false
   },
   "outputs": [],
   "source": [
    "def show_barchart_merging_methods(labels, scores, stds):\n",
    "    y_pos = np.arange(len(labels))\n",
    "\n",
    "    fig = plt.figure(figsize=(16,4))\n",
    "    ax = fig.add_subplot(111)\n",
    "\n",
    "    ax.bar(y_pos, scores, align='center', yerr=stds, \n",
    "           alpha=0.8, width=0.3, color=\"turquoise\", edgecolor=\"turquoise\", ecolor=\"black\")\n",
    "\n",
    "    plt.xticks(y_pos, labels)\n",
    "\n",
    "    # add values above the bars\n",
    "    for a,b in enumerate(scores):\n",
    "        plt.text(a, b, \" %.2f\" % b, ha='left', va='bottom')\n",
    "\n",
    "    plt.ylabel('Score')\n",
    "    plt.ylim(0.0, 1.1)\n",
    "    plt.title('Median score between several merging methods')\n",
    "    plt.gca().yaxis.grid(True)\n",
    "    plt.tight_layout()\n",
    "\n",
    "    plt.show()\n",
    "\n",
    "assessed_lists = sorted(assessed_lists, key=lambda x:len(x[1]), reverse=False)\n",
    "names, selected_features, scores, stds = zip(*assessed_lists)\n",
    "\n",
    "labels = [\"%s\\n(#%d)\" % (name, len(feats)) for name, feats in zip(names, selected_features)]\n",
    "show_barchart_merging_methods(labels, scores, stds)"
   ]
  }
 ],
 "metadata": {
  "kernelspec": {
   "display_name": "Python 2",
   "language": "python",
   "name": "python2"
  },
  "language_info": {
   "codemirror_mode": {
    "name": "ipython",
    "version": 2
   },
   "file_extension": ".py",
   "mimetype": "text/x-python",
   "name": "python",
   "nbconvert_exporter": "python",
   "pygments_lexer": "ipython2",
   "version": "2.7.12"
  }
 },
 "nbformat": 4,
 "nbformat_minor": 1
}
