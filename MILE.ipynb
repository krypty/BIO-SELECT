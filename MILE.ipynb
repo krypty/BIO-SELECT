{
 "cells": [
  {
   "cell_type": "code",
   "execution_count": 1,
   "metadata": {
    "collapsed": true
   },
   "outputs": [],
   "source": [
    "# BIO-SELECT - Marigliano"
   ]
  },
  {
   "cell_type": "code",
   "execution_count": 2,
   "metadata": {
    "collapsed": false
   },
   "outputs": [],
   "source": [
    "from sklearn import neighbors, datasets\n",
    "import pandas as pd\n",
    "import os\n",
    "from matplotlib import pyplot as plt\n",
    "import numpy as np\n",
    "from sklearn import preprocessing\n",
    "%matplotlib inline\n",
    "\n",
    "# set float precision at 2 digits\n",
    "np.set_printoptions(precision=2)"
   ]
  },
  {
   "cell_type": "markdown",
   "metadata": {
    "collapsed": false
   },
   "source": [
    "## Load datasamples from MILE"
   ]
  },
  {
   "cell_type": "code",
   "execution_count": 3,
   "metadata": {
    "collapsed": false
   },
   "outputs": [
    {
     "name": "stdout",
     "output_type": "stream",
     "text": [
      "16\n",
      "54675\n"
     ]
    }
   ],
   "source": [
    "from sklearn.cross_validation import train_test_split\n",
    "\n",
    "from datasets.EGEOD22619Dataset import EGEOD22619Dataset\n",
    "from datasets.MileDataset import MileDataset\n",
    "\n",
    "#ds = MileDataset(full_dataset=True)\n",
    "ds = EGEOD22619Dataset()\n",
    "\n",
    "X = ds.get_X()\n",
    "y = ds.get_y()\n",
    "#print(X)\n",
    "print(len(y))\n",
    "\n",
    "X_train, X_test, y_train, y_test = train_test_split(X, y, test_size=0.3)\n",
    "print(len(X_train[0]))"
   ]
  },
  {
   "cell_type": "markdown",
   "metadata": {},
   "source": [
    "## Classification using dumb KNN (all features)"
   ]
  },
  {
   "cell_type": "code",
   "execution_count": 4,
   "metadata": {
    "collapsed": false
   },
   "outputs": [
    {
     "name": "stdout",
     "output_type": "stream",
     "text": [
      "('score :', 1.0)\n"
     ]
    }
   ],
   "source": [
    "from sklearn.neighbors import KNeighborsClassifier\n",
    "classifier = KNeighborsClassifier(n_neighbors=4, algorithm=\"auto\")\n",
    "classifier = classifier.fit(X_train, y_train)\n",
    "\n",
    "score = classifier.score(X_test, y_test)\n",
    "print(\"score :\", score)"
   ]
  },
  {
   "cell_type": "markdown",
   "metadata": {},
   "source": [
    "## Classification using ExtraTree"
   ]
  },
  {
   "cell_type": "code",
   "execution_count": 5,
   "metadata": {
    "collapsed": false
   },
   "outputs": [
    {
     "name": "stdout",
     "output_type": "stream",
     "text": [
      "54675\n",
      "300\n"
     ]
    },
    {
     "data": {
      "text/plain": [
       "(array([ 7854.,  8978.,  6888.,  5857.,  4897.,  4533.,  4046.,  3936.,\n",
       "         3820.,  3866.]),\n",
       " array([  4.44e-05,   1.00e-01,   2.00e-01,   3.00e-01,   4.00e-01,\n",
       "          5.00e-01,   6.00e-01,   7.00e-01,   8.00e-01,   9.00e-01,\n",
       "          1.00e+00]),\n",
       " <a list of 10 Patch objects>)"
      ]
     },
     "execution_count": 5,
     "metadata": {},
     "output_type": "execute_result"
    },
    {
     "data": {
      "image/png": "[encoded data removed]",
      "text/plain": [
       "<matplotlib.figure.Figure at 0x7efdbbf7eed0>"
      ]
     },
     "metadata": {},
     "output_type": "display_data"
    }
   ],
   "source": [
    "from sklearn.ensemble import ExtraTreesClassifier\n",
    "classifier = ExtraTreesClassifier(n_jobs=-1, n_estimators=25)\n",
    "classifier = classifier.fit(X_train, y_train)\n",
    "\n",
    "import sklearn.feature_selection as fs\n",
    "\n",
    "classifier = fs.SelectKBest(fs.f_regression, k=300) #k is number of features.\n",
    "print(len(X_train[1]))\n",
    "X_train_selected = classifier.fit_transform(X_train, y_train)\n",
    "print(len(X_train_selected[1]))\n",
    "\n",
    "#score = classifier.score(X_test, y_test)\n",
    "#print(\"score :\", score)\n",
    "\n",
    "#plt.plot(classifier.scores_)\n",
    "plt.hist(classifier.pvalues_, color=\"red\")\n",
    "\n",
    "#plt.plot(classifier.feature_importances_)"
   ]
  },
  {
   "cell_type": "markdown",
   "metadata": {},
   "source": [
    "## Feature selection"
   ]
  },
  {
   "cell_type": "code",
   "execution_count": 6,
   "metadata": {
    "collapsed": false
   },
   "outputs": [
    {
     "name": "stdout",
     "output_type": "stream",
     "text": [
      "[[ 7.37  5.75  3.02 ...,  2.89  2.63  2.85]\n",
      " [ 7.72  5.36  2.91 ...,  2.82  2.58  2.79]\n",
      " [ 7.77  5.61  2.88 ...,  2.79  2.56  2.72]\n",
      " ..., \n",
      " [ 7.09  5.33  3.1  ...,  2.87  2.64  2.82]\n",
      " [ 7.81  5.54  2.82 ...,  2.79  2.59  2.82]\n",
      " [ 7.41  5.62  3.01 ...,  2.92  2.66  2.86]]\n",
      "[0, 0, 0, 1, 1, 1, 1, 1, 1, 0, 1]\n",
      "[(39614, 13.705999999999996), (22073, 13.273999999999999), (23896, 10.811999999999998), (24856, 10.725999999999999), (19537, 10.174000000000001)]\n",
      "[39614 22073 23896 ..., 15267 17253 19843]\n"
     ]
    }
   ],
   "source": [
    "from skfeature.function.similarity_based import reliefF\n",
    "\n",
    "print(X_train)\n",
    "print(y_train)\n",
    "score = reliefF.reliefF(X_train, np.array(y_train))\n",
    "\n",
    "# print the best 5 features with their score\n",
    "n_best_features = sorted(enumerate(score), key=lambda p:p[1], reverse=True)\n",
    "print(n_best_features[:5])\n",
    "\n",
    "# get best features indice\n",
    "idx = reliefF.feature_ranking(score)\n",
    "print(idx)"
   ]
  },
  {
   "cell_type": "code",
   "execution_count": 7,
   "metadata": {
    "collapsed": false
   },
   "outputs": [
    {
     "name": "stdout",
     "output_type": "stream",
     "text": [
      "[(2658, 5.9638608305259639), (42471, 5.1723028126555119), (1642, 4.8078138829238704), (39780, 4.5549775240270849), (36737, 3.7796442687748462)]\n",
      "[ 2658 42471  1642 ..., 47712  4085 47097]\n"
     ]
    }
   ],
   "source": [
    "from skfeature.function.similarity_based import fisher_score\n",
    "\n",
    "score = fisher_score.fisher_score(X_train, y_train)\n",
    "\n",
    "# print the best 5 features with their score\n",
    "n_best_features = sorted(enumerate(score), key=lambda p:p[1], reverse=True)\n",
    "print(n_best_features[:5])\n",
    "\n",
    "# get best features indice\n",
    "idx = fisher_score.feature_ranking(score)\n",
    "print(idx)"
   ]
  },
  {
   "cell_type": "code",
   "execution_count": 8,
   "metadata": {
    "collapsed": false
   },
   "outputs": [
    {
     "data": {
      "text/plain": [
       "[<matplotlib.lines.Line2D at 0x7efdb91c7290>]"
      ]
     },
     "execution_count": 8,
     "metadata": {},
     "output_type": "execute_result"
    },
    {
     "data": {
      "image/png": "[encoded data removed]",
      "text/plain": [
       "<matplotlib.figure.Figure at 0x7efdbc0acc10>"
      ]
     },
     "metadata": {},
     "output_type": "display_data"
    }
   ],
   "source": [
    "f = [f[0] for f in n_best_features]\n",
    "s = [f[1] for f in n_best_features]\n",
    "plt.plot(s)"
   ]
  },
  {
   "cell_type": "markdown",
   "metadata": {},
   "source": [
    "### Test with http://featureselection.asu.edu/tutorial.php"
   ]
  },
  {
   "cell_type": "code",
   "execution_count": 9,
   "metadata": {
    "collapsed": false
   },
   "outputs": [
    {
     "name": "stdout",
     "output_type": "stream",
     "text": [
      "max score 0.8 with 231 features\n",
      "Best features are [ 2658 42471  1642 39780 36737 38643 43643 46858 16956 51631 48170 39497\n",
      "   149 49859 46933 40553 10378  6738  6390 46781 38839 51975  9888  7071\n",
      " 14350 29924 24550 46652 27857 31600 32625 15480 47919 27905 47987 31100\n",
      " 17785 30974 35438  7576 30991  1393 41191 51404  7731 45293 25875 49985\n",
      " 43630 26321 53625 41593 33976 28994 41773 47326  9660 25744  3609 53868\n",
      " 47924 40865 43264 11736 24856 24052 26530 15471  8199 10445 45429  6333\n",
      " 12773 16989 49207 31646 49191 53102 25941  8782 46331 42260 29448 40465\n",
      " 42804 31644 15755  2893 42607 15308 22726 36945  8533  6528 29682 46676\n",
      " 44685 32390 15598 22077 47177 24443 16924 11868 49762 43942  6231 40107\n",
      " 26117  8115 45235 51789 32851 35742 49583 12155 44089 39016 36158  8071\n",
      " 36645 52640 24930 46190 23819  5337  6195 13829  4659   592 28871 53242\n",
      " 22078  5377   204 50046 40948  1683 52464  1359 48202 40567 22321 51022\n",
      " 20011 10846 24191 51792 52734 47011 36292 37978 46320 53507  1079 37417\n",
      " 16079 11796 42879 42754 28132 44935 36400 30181 30458 15437  3503 26032\n",
      "  3307  3628  3224 49399 21793 45121 24046 13637  2204 53988 47276 31349\n",
      " 45338  8600  7996  3433 19835 24565 48471  3169 29488 39253 32315  6760\n",
      " 50946 49001 30492 26590 41704 11625 30603 51959  3862 37642  8300 11611\n",
      " 48293 33172 28770 54283 52289 53583  5701 14512 44923 26407 46699 20192\n",
      "  5058 29070  5709  5520  3443 25033 42701 31148  5721 50322 17554 25735\n",
      "  7113 24217  5116]\n"
     ]
    },
    {
     "data": {
      "image/png": "[encoded data removed]",
      "text/plain": [
       "<matplotlib.figure.Figure at 0x7efdbc1c7c10>"
      ]
     },
     "metadata": {},
     "output_type": "display_data"
    }
   ],
   "source": [
    "from sklearn import svm\n",
    "from sklearn.metrics import accuracy_score\n",
    "\n",
    "acc = []\n",
    "\n",
    "step = 5\n",
    "max_features = 500\n",
    "max_acc = -1.0\n",
    "n_features = range(1, max_features, step)\n",
    "\n",
    "\n",
    "for N in n_features:\n",
    "    num_fea = N\n",
    "    features_subset = idx[0:num_fea]\n",
    "    \n",
    "    selected_features_train = X_train[:, features_subset]\n",
    "    selected_features_test = X_test[:, features_subset]\n",
    "\n",
    "    clf = svm.LinearSVC()\n",
    "\n",
    "    clf.fit(selected_features_train, y_train)\n",
    "    y_predict = clf.predict(selected_features_test)\n",
    "\n",
    "    last_acc = accuracy_score(y_test, y_predict)\n",
    "    acc.append(last_acc)\n",
    "    \n",
    "\n",
    "    if last_acc > max_acc:\n",
    "        max_acc = last_acc\n",
    "        best_features = features_subset\n",
    "\n",
    "ymin = 0\n",
    "ymax = 1.0\n",
    "plt.bar(n_features, acc)\n",
    "plt.ylim([ymin,ymax])\n",
    "\n",
    "print(\"max score %s with %s features\" % (max_acc, len(best_features)))\n",
    "print(\"Best features are %s\" % best_features)\n",
    "#TODO : get features name from dataset"
   ]
  },
  {
   "cell_type": "code",
   "execution_count": 10,
   "metadata": {
    "collapsed": false
   },
   "outputs": [],
   "source": [
    "# from skfeature.function.similarity_based import reliefF\n",
    "# \n",
    "# print(X_train)\n",
    "# print(y_train)\n",
    "# score = reliefF.reliefF(X_train, y_train)\n",
    "# \n",
    "# # print the best 5 features with their score\n",
    "# n_best_features = sorted(enumerate(score), key=lambda p:p[1], reverse=True)\n",
    "# print(n_best_features[:5])\n",
    "# \n",
    "# # get best features indice\n",
    "# idx = reliefF.feature_ranking(score)\n",
    "# print(idx)"
   ]
  },
  {
   "cell_type": "code",
   "execution_count": 11,
   "metadata": {
    "collapsed": false
   },
   "outputs": [
    {
     "name": "stdout",
     "output_type": "stream",
     "text": [
      "[[ 7.37  5.75  3.02 ...,  2.89  2.63  2.85]\n",
      " [ 7.72  5.36  2.91 ...,  2.82  2.58  2.79]\n",
      " [ 7.77  5.61  2.88 ...,  2.79  2.56  2.72]\n",
      " ..., \n",
      " [ 7.09  5.33  3.1  ...,  2.87  2.64  2.82]\n",
      " [ 7.81  5.54  2.82 ...,  2.79  2.59  2.82]\n",
      " [ 7.41  5.62  3.01 ...,  2.92  2.66  2.86]]\n",
      "[0, 0, 0, 1, 1, 1, 1, 1, 1, 0, 1]\n",
      "[(2658, 53.674747474754781), (42471, 46.550725313596118), (1642, 43.270324946321082)]\n",
      "[ 2658 42471  1642 ..., 46896  4085 47097]\n"
     ]
    }
   ],
   "source": [
    "from skfeature.function.statistical_based import f_score\n",
    "\n",
    "print(X_train)\n",
    "print(y_train)\n",
    "score = f_score.f_score(X_train, y_train)\n",
    "\n",
    "# print the best 5 features with their score\n",
    "n_best_features = sorted(enumerate(score), key=lambda p:p[1], reverse=True)\n",
    "print(n_best_features[:3])\n",
    "\n",
    "# get best features indice\n",
    "idx = f_score.feature_ranking(score)\n",
    "print(idx)"
   ]
  },
  {
   "cell_type": "code",
   "execution_count": 13,
   "metadata": {
    "collapsed": false
   },
   "outputs": [],
   "source": [
    "#from skfeature.function.wrapper import svm_backward\n",
    "#\n",
    "#print(X_train)\n",
    "#print(y_train)\n",
    "#score = svm_backward.svm_backward(X_train, np.array(y_train), n_selected_features=3)\n",
    "#\n",
    "## print the best 3 features with their score\n",
    "#n_best_features = sorted(enumerate(score), key=lambda p:p[1], reverse=True)\n",
    "#print(n_best_features[:3])\n",
    "#\n",
    "## get best features indice\n",
    "#idx = svm_backward.feature_ranking(score)\n",
    "#print(idx)"
   ]
  }
 ],
 "metadata": {
  "kernelspec": {
   "display_name": "Python 2",
   "language": "python",
   "name": "python2"
  },
  "language_info": {
   "codemirror_mode": {
    "name": "ipython",
    "version": 2
   },
   "file_extension": ".py",
   "mimetype": "text/x-python",
   "name": "python",
   "nbconvert_exporter": "python",
   "pygments_lexer": "ipython2",
   "version": "2.7.12"
  }
 },
 "nbformat": 4,
 "nbformat_minor": 0
}
